{
 "cells": [
  {
   "cell_type": "markdown",
   "id": "3f5db265",
   "metadata": {},
   "source": [
    "# Spark Machine Learning using linear regression\n",
    "\n",
    "\n",
    "#### Topics covered in this example\n",
    "* `VectorAssembler`, `LinearRegression` and `RegressionEvaluator` from `pyspark.ml`."
   ]
  },
  {
   "cell_type": "markdown",
   "id": "ace3756b",
   "metadata": {},
   "source": [
    "***\n",
    "\n",
    "## Prerequisites\n",
    "<div class=\"alert alert-block alert-info\">\n",
    "<b>NOTE :</b> In order to execute this notebook successfully as is, please ensure the following prerequisites are completed.</div>\n",
    "\n",
    "* The EMR cluster attached to this notebook should have the `Spark` application installed.\n",
    "* This example uses a public dataset, hence the EMR cluster attached to this notebook must have internet connectivity.\n",
    "* This notebook uses the `PySpark` kernel.\n",
    "***"
   ]
  },
  {
   "cell_type": "markdown",
   "id": "f01d3e18",
   "metadata": {},
   "source": [
    "## Introduction\n",
    "In this example we use pyspark to predict the total cost of a trip using <a href=\"https://registry.opendata.aws/nyc-tlc-trip-records-pds/\" target=\"_blank\">New York City Taxi and Limousine Commission (TLC) Trip Record Data</a> from <a href=\"https://registry.opendata.aws/\" target=\"_blank\">Registry of Open Data on AWS</a>.\n",
    "\n",
    "***"
   ]
  },
  {
   "cell_type": "markdown",
   "id": "33109c15",
   "metadata": {},
   "source": [
    "## Example\n",
    "Load the data set for trips into a Spark DataFrame."
   ]
  },
  {
   "cell_type": "code",
   "execution_count": 1,
   "id": "dd14a837",
   "metadata": {},
   "outputs": [
    {
     "data": {
      "application/vnd.jupyter.widget-view+json": {
       "model_id": "eac18536bbd842cf9cbda6297b88747c",
       "version_major": 2,
       "version_minor": 0
      },
      "text/plain": [
       "VBox()"
      ]
     },
     "metadata": {},
     "output_type": "display_data"
    },
    {
     "name": "stdout",
     "output_type": "stream",
     "text": [
      "Starting Spark application\n"
     ]
    },
    {
     "data": {
      "text/html": [
       "<table>\n<tbody><tr><th>ID</th><th>YARN Application ID</th><th>Kind</th><th>State</th><th>Spark UI</th><th>Driver log</th><th>Current session?</th></tr><tr><td>3</td><td>application_1628792020659_0004</td><td>pyspark</td><td>idle</td><td><a target=\"_blank\" href=\"http://ip-172-31-10-245.us-west-2.compute.internal:20888/proxy/application_1628792020659_0004/\" class=\"emr-proxy-link j-2TVCOI8GAWXWF application_1628792020659_0004\" emr-resource=\"j-2TVCOI8GAWXWF\n\" application-id=\"application_1628792020659_0004\">Link</a></td><td><a target=\"_blank\" href=\"http://ip-172-31-10-245.us-west-2.compute.internal:8042/node/containerlogs/container_1628792020659_0004_01_000001/livy\">Link</a></td><td>✔</td></tr></tbody></table>"
      ],
      "text/plain": [
       "<IPython.core.display.HTML object>"
      ]
     },
     "metadata": {},
     "output_type": "display_data"
    },
    {
     "data": {
      "application/vnd.jupyter.widget-view+json": {
       "model_id": "",
       "version_major": 2,
       "version_minor": 0
      },
      "text/plain": [
       "FloatProgress(value=0.0, bar_style='info', description='Progress:', layout=Layout(height='25px', width='50%'),…"
      ]
     },
     "metadata": {},
     "output_type": "display_data"
    },
    {
     "name": "stdout",
     "output_type": "stream",
     "text": [
      "SparkSession available as 'spark'.\n"
     ]
    },
    {
     "data": {
      "application/vnd.jupyter.widget-view+json": {
       "model_id": "",
       "version_major": 2,
       "version_minor": 0
      },
      "text/plain": [
       "FloatProgress(value=0.0, bar_style='info', description='Progress:', layout=Layout(height='25px', width='50%'),…"
      ]
     },
     "metadata": {},
     "output_type": "display_data"
    }
   ],
   "source": [
    "df = spark.read.format(\"csv\").load(\"s3://nyc-tlc/trip data/yellow_tripdata_2020-11.csv\", inferSchema = True, header = True)"
   ]
  },
  {
   "cell_type": "markdown",
   "id": "d8fb6c42",
   "metadata": {},
   "source": [
    "Mark the dataFrame for caching in memory and display the schema to check the data-types using the `printSchema` method."
   ]
  },
  {
   "cell_type": "code",
   "execution_count": 2,
   "id": "323ff13f",
   "metadata": {},
   "outputs": [
    {
     "data": {
      "application/vnd.jupyter.widget-view+json": {
       "model_id": "77feabce09cb492895b41438cd54cbcf",
       "version_major": 2,
       "version_minor": 0
      },
      "text/plain": [
       "VBox()"
      ]
     },
     "metadata": {},
     "output_type": "display_data"
    },
    {
     "data": {
      "application/vnd.jupyter.widget-view+json": {
       "model_id": "",
       "version_major": 2,
       "version_minor": 0
      },
      "text/plain": [
       "FloatProgress(value=0.0, bar_style='info', description='Progress:', layout=Layout(height='25px', width='50%'),…"
      ]
     },
     "metadata": {},
     "output_type": "display_data"
    },
    {
     "name": "stdout",
     "output_type": "stream",
     "text": [
      "root\n",
      " |-- VendorID: integer (nullable = true)\n",
      " |-- tpep_pickup_datetime: string (nullable = true)\n",
      " |-- tpep_dropoff_datetime: string (nullable = true)\n",
      " |-- passenger_count: integer (nullable = true)\n",
      " |-- trip_distance: double (nullable = true)\n",
      " |-- RatecodeID: integer (nullable = true)\n",
      " |-- store_and_fwd_flag: string (nullable = true)\n",
      " |-- PULocationID: integer (nullable = true)\n",
      " |-- DOLocationID: integer (nullable = true)\n",
      " |-- payment_type: integer (nullable = true)\n",
      " |-- fare_amount: double (nullable = true)\n",
      " |-- extra: double (nullable = true)\n",
      " |-- mta_tax: double (nullable = true)\n",
      " |-- tip_amount: double (nullable = true)\n",
      " |-- tolls_amount: double (nullable = true)\n",
      " |-- improvement_surcharge: double (nullable = true)\n",
      " |-- total_amount: double (nullable = true)\n",
      " |-- congestion_surcharge: double (nullable = true)\n",
      "\n",
      "(1508985, 18)"
     ]
    }
   ],
   "source": [
    "# Mark the dataFrame for caching in memory\n",
    "df.cache()\n",
    "\n",
    "# Print the scehma\n",
    "df.printSchema()\n",
    "\n",
    "# Get the dimensions of the data\n",
    "df.count() , len(df.columns)"
   ]
  },
  {
   "cell_type": "code",
   "execution_count": 3,
   "id": "36b094e9",
   "metadata": {},
   "outputs": [
    {
     "data": {
      "application/vnd.jupyter.widget-view+json": {
       "model_id": "e6b862e8feb34395883b77d1a78cb692",
       "version_major": 2,
       "version_minor": 0
      },
      "text/plain": [
       "VBox()"
      ]
     },
     "metadata": {},
     "output_type": "display_data"
    },
    {
     "data": {
      "application/vnd.jupyter.widget-view+json": {
       "model_id": "",
       "version_major": 2,
       "version_minor": 0
      },
      "text/plain": [
       "FloatProgress(value=0.0, bar_style='info', description='Progress:', layout=Layout(height='25px', width='50%'),…"
      ]
     },
     "metadata": {},
     "output_type": "display_data"
    },
    {
     "name": "stdout",
     "output_type": "stream",
     "text": [
      "+-------+------------------+-----------------+\n",
      "|summary|      total_amount|       tip_amount|\n",
      "+-------+------------------+-----------------+\n",
      "|  count|           1508985|          1508985|\n",
      "|   mean| 17.45322861398119|1.979809931841758|\n",
      "| stddev|123.92467136301887|2.213538077170879|\n",
      "|    min|            -497.3|          -103.06|\n",
      "|    max|         151522.07|            450.0|\n",
      "+-------+------------------+-----------------+\n",
      "\n",
      "+--------+------+\n",
      "|VendorID| count|\n",
      "+--------+------+\n",
      "|    null| 99049|\n",
      "|       1|446141|\n",
      "|       2|963795|\n",
      "+--------+------+"
     ]
    }
   ],
   "source": [
    "# Get the summary of the columns\n",
    "df.select(\"total_amount\", \"tip_amount\").describe().show()\n",
    "\n",
    "# Value counts of VendorID column\n",
    "df.groupBy(\"VendorID\").count().show()"
   ]
  },
  {
   "cell_type": "markdown",
   "id": "27147b87",
   "metadata": {},
   "source": [
    "### Use <a href=\"https://spark.apache.org/docs/2.4.7/ml-features#vectorassembler\" target=\"_blank\">VectorAssembler</a> to transform input columns into vectors\n",
    "<a href=\"https://spark.apache.org/docs/2.3.1/api/python/pyspark.ml.html\" target=\"_blank\">pyspark.ml</a> provides dataFrame-based machine learning APIs to let users quickly assemble and configure practical machine learning pipelines.    \n",
    "A `VectorAssembler` combines a given list of columns into a single vector column. In the below cell we combine the columns to a single vector cloumn `features`."
   ]
  },
  {
   "cell_type": "code",
   "execution_count": 4,
   "id": "75a2eb77",
   "metadata": {},
   "outputs": [
    {
     "data": {
      "application/vnd.jupyter.widget-view+json": {
       "model_id": "0fdf56da5c0f484f9ff06be5f173fbf7",
       "version_major": 2,
       "version_minor": 0
      },
      "text/plain": [
       "VBox()"
      ]
     },
     "metadata": {},
     "output_type": "display_data"
    },
    {
     "data": {
      "application/vnd.jupyter.widget-view+json": {
       "model_id": "",
       "version_major": 2,
       "version_minor": 0
      },
      "text/plain": [
       "FloatProgress(value=0.0, bar_style='info', description='Progress:', layout=Layout(height='25px', width='50%'),…"
      ]
     },
     "metadata": {},
     "output_type": "display_data"
    },
    {
     "name": "stdout",
     "output_type": "stream",
     "text": [
      "+--------------------+------------+\n",
      "|            features|total_amount|\n",
      "+--------------------+------------+\n",
      "|[1.8,246.0,137.0,...|        17.9|\n",
      "|[2.8,229.0,4.0,11...|        15.3|\n",
      "|[8.1,144.0,83.0,2...|        32.8|\n",
      "+--------------------+------------+\n",
      "only showing top 3 rows"
     ]
    }
   ],
   "source": [
    "from pyspark.ml.feature import VectorAssembler\n",
    "\n",
    "# Specify the input and output columns of the vector assembler\n",
    "vectorAssembler = VectorAssembler(\n",
    "    inputCols = [\n",
    "        \"trip_distance\",\n",
    "        \"PULocationID\",\n",
    "        \"DOLocationID\",\n",
    "        \"fare_amount\",\n",
    "        \"mta_tax\",\n",
    "        \"tip_amount\", \n",
    "        \"tolls_amount\",\n",
    "        \"improvement_surcharge\", \n",
    "        \"congestion_surcharge\"\n",
    "    ], \n",
    "    outputCol = \"features\")\n",
    "\n",
    "# Transform the data\n",
    "v_df = vectorAssembler.transform(df)\n",
    "\n",
    "# View the transformed data\n",
    "v_df = v_df.select([\"features\", \"total_amount\"])\n",
    "v_df.show(3)"
   ]
  },
  {
   "cell_type": "markdown",
   "id": "57064c09",
   "metadata": {},
   "source": [
    "Divide input dataset into training set and test set"
   ]
  },
  {
   "cell_type": "code",
   "execution_count": 5,
   "id": "8af741b3",
   "metadata": {},
   "outputs": [
    {
     "data": {
      "application/vnd.jupyter.widget-view+json": {
       "model_id": "d66f1effa6bf41e192a819e37c9b2f0a",
       "version_major": 2,
       "version_minor": 0
      },
      "text/plain": [
       "VBox()"
      ]
     },
     "metadata": {},
     "output_type": "display_data"
    },
    {
     "data": {
      "application/vnd.jupyter.widget-view+json": {
       "model_id": "",
       "version_major": 2,
       "version_minor": 0
      },
      "text/plain": [
       "FloatProgress(value=0.0, bar_style='info', description='Progress:', layout=Layout(height='25px', width='50%'),…"
      ]
     },
     "metadata": {},
     "output_type": "display_data"
    }
   ],
   "source": [
    "splits = v_df.randomSplit([0.7, 0.3])\n",
    "train_df = splits[0]\n",
    "test_df = splits[1]"
   ]
  },
  {
   "cell_type": "markdown",
   "id": "e5094eff",
   "metadata": {},
   "source": [
    "### Train the model using <a href=\"https://spark.apache.org/docs/2.4.7/ml-classification-regression.html#linear-regression\" target=\"_blank\">LinearRegression</a> against training set"
   ]
  },
  {
   "cell_type": "code",
   "execution_count": 6,
   "id": "5748b868",
   "metadata": {},
   "outputs": [
    {
     "data": {
      "application/vnd.jupyter.widget-view+json": {
       "model_id": "6d0206dc7ee34d898599a7a577746e71",
       "version_major": 2,
       "version_minor": 0
      },
      "text/plain": [
       "VBox()"
      ]
     },
     "metadata": {},
     "output_type": "display_data"
    },
    {
     "data": {
      "application/vnd.jupyter.widget-view+json": {
       "model_id": "",
       "version_major": 2,
       "version_minor": 0
      },
      "text/plain": [
       "FloatProgress(value=0.0, bar_style='info', description='Progress:', layout=Layout(height='25px', width='50%'),…"
      ]
     },
     "metadata": {},
     "output_type": "display_data"
    },
    {
     "name": "stdout",
     "output_type": "stream",
     "text": [
      "Coefficients: [0.0,0.0,0.0,0.9981329031685724,0.0,0.9345062568672848,0.8092398254016294,0.0,0.7608024111636874]\n",
      "Intercept: 1.7511710812068897"
     ]
    }
   ],
   "source": [
    "from pyspark.ml.regression import LinearRegression\n",
    "\n",
    "lr = LinearRegression(featuresCol = \"features\", labelCol = \"total_amount\", maxIter = 100, regParam = 0.3, elasticNetParam = 0.8)\n",
    "lr_model = lr.fit(train_df)\n",
    "print(\"Coefficients: \" + str(lr_model.coefficients))\n",
    "print(\"Intercept: \" + str(lr_model.intercept))"
   ]
  },
  {
   "cell_type": "markdown",
   "id": "e472da6b",
   "metadata": {},
   "source": [
    "Report the trained model performance on the training set"
   ]
  },
  {
   "cell_type": "code",
   "execution_count": 7,
   "id": "08bc77e4",
   "metadata": {},
   "outputs": [
    {
     "data": {
      "application/vnd.jupyter.widget-view+json": {
       "model_id": "8acbc754c21f4fde9a9a6493a809a768",
       "version_major": 2,
       "version_minor": 0
      },
      "text/plain": [
       "VBox()"
      ]
     },
     "metadata": {},
     "output_type": "display_data"
    },
    {
     "data": {
      "application/vnd.jupyter.widget-view+json": {
       "model_id": "",
       "version_major": 2,
       "version_minor": 0
      },
      "text/plain": [
       "FloatProgress(value=0.0, bar_style='info', description='Progress:', layout=Layout(height='25px', width='50%'),…"
      ]
     },
     "metadata": {},
     "output_type": "display_data"
    },
    {
     "name": "stdout",
     "output_type": "stream",
     "text": [
      "RMSE: 0.671089\n",
      "R squred (R2): 0.999979"
     ]
    }
   ],
   "source": [
    "training_summary = lr_model.summary\n",
    "print(\"RMSE: %f\" % training_summary.rootMeanSquaredError)\n",
    "print(\"R squred (R2): %f\" % training_summary.r2)"
   ]
  },
  {
   "cell_type": "markdown",
   "id": "6d9b0628",
   "metadata": {},
   "source": [
    "Predict the result using test set and report accuracy"
   ]
  },
  {
   "cell_type": "code",
   "execution_count": 8,
   "id": "84ac69c0",
   "metadata": {},
   "outputs": [
    {
     "data": {
      "application/vnd.jupyter.widget-view+json": {
       "model_id": "b02780cc88b14782be71b941bfed9a6c",
       "version_major": 2,
       "version_minor": 0
      },
      "text/plain": [
       "VBox()"
      ]
     },
     "metadata": {},
     "output_type": "display_data"
    },
    {
     "data": {
      "application/vnd.jupyter.widget-view+json": {
       "model_id": "",
       "version_major": 2,
       "version_minor": 0
      },
      "text/plain": [
       "FloatProgress(value=0.0, bar_style='info', description='Progress:', layout=Layout(height='25px', width='50%'),…"
      ]
     },
     "metadata": {},
     "output_type": "display_data"
    },
    {
     "name": "stdout",
     "output_type": "stream",
     "text": [
      "+------------------+------------+------------------+------------------+\n",
      "|        prediction|total_amount|              diff|             diff%|\n",
      "+------------------+------------+------------------+------------------+\n",
      "|  26.7044936604212|        25.0|1.7044936604211998| 6.817974641684799|\n",
      "|13.728765919229758|        12.0|1.7287659192297582|14.406382660247985|\n",
      "|37.983395466226064|        36.3|1.6833954662260666| 4.637453075002939|\n",
      "|13.728765919229758|        12.0|1.7287659192297582|14.406382660247985|\n",
      "| 21.71382914457834|        20.0| 1.713829144578341| 8.569145722891705|\n",
      "| 21.71382914457834|        20.0| 1.713829144578341| 8.569145722891705|\n",
      "|28.002066434540346|        26.3|1.7020664345403453|6.4717354925488415|\n",
      "|16.919608259344866|       15.36|1.5596082593448664|10.153699605109807|\n",
      "|16.919608259344866|       15.36|1.5596082593448664|10.153699605109807|\n",
      "|  68.3079423619948|        67.0|1.3079423619948045|1.9521527790967232|\n",
      "| 61.63914527132123|        60.3| 1.339145271321236|2.2208047617267597|\n",
      "| 71.62047430300696|        70.3|1.3204743030069608|1.8783418250454635|\n",
      "| 61.63914527132123|        60.3| 1.339145271321236|2.2208047617267597|\n",
      "|31.695158176264062|        30.3|1.3951581762640615| 4.604482429914395|\n",
      "|22.711962047746912|        21.8|0.9119620477469113| 4.183312145628033|\n",
      "|11.732500112892614|        10.3|1.4325001128926136|13.907768086336054|\n",
      "|58.644746561815516|        57.3|1.3447465618155192|   2.3468526384215|\n",
      "| 61.63914527132123|        60.3| 1.339145271321236|2.2208047617267597|\n",
      "| 18.02073740285462|        16.6|1.4207374028546198| 8.558659053341081|\n",
      "| 21.71382914457834|        20.3|1.4138291445783402| 6.964675589055863|\n",
      "+------------------+------------+------------------+------------------+\n",
      "only showing top 20 rows"
     ]
    }
   ],
   "source": [
    "predictions = lr_model.transform(test_df)\n",
    "\n",
    "from pyspark.sql.functions import col\n",
    "predictions.filter(predictions.total_amount > 10.0).select(\"prediction\", \"total_amount\").withColumn(\"diff\", col(\"prediction\") - col(\"total_amount\")).withColumn(\"diff%\", (col(\"diff\") / col(\"total_amount\")) * 100).show()"
   ]
  },
  {
   "cell_type": "markdown",
   "id": "634330bb",
   "metadata": {},
   "source": [
    "### Report performance on the test set using <a href=\"https://spark.apache.org/docs/2.4.7/api/java/org/apache/spark/ml/evaluation/RegressionEvaluator.html\" target=\"_blank\">RegressionEvaluator</a>"
   ]
  },
  {
   "cell_type": "code",
   "execution_count": 9,
   "id": "6b41682d",
   "metadata": {},
   "outputs": [
    {
     "data": {
      "application/vnd.jupyter.widget-view+json": {
       "model_id": "901e7022e65c452e9cc1108ce4c05fb8",
       "version_major": 2,
       "version_minor": 0
      },
      "text/plain": [
       "VBox()"
      ]
     },
     "metadata": {},
     "output_type": "display_data"
    },
    {
     "data": {
      "application/vnd.jupyter.widget-view+json": {
       "model_id": "",
       "version_major": 2,
       "version_minor": 0
      },
      "text/plain": [
       "FloatProgress(value=0.0, bar_style='info', description='Progress:', layout=Layout(height='25px', width='50%'),…"
      ]
     },
     "metadata": {},
     "output_type": "display_data"
    },
    {
     "name": "stdout",
     "output_type": "stream",
     "text": [
      "R Squared (R2) on test data = 0.997477"
     ]
    }
   ],
   "source": [
    "from pyspark.ml.evaluation import RegressionEvaluator\n",
    "\n",
    "lr_evaluator = RegressionEvaluator(predictionCol = \"prediction\", labelCol = \"total_amount\",metricName = \"r2\")\n",
    "print(\"R Squared (R2) on test data = %g\" % lr_evaluator.evaluate(predictions))"
   ]
  },
  {
   "cell_type": "code",
   "execution_count": null,
   "id": "2ab7b2a7",
   "metadata": {},
   "outputs": [],
   "source": []
  }
 ],
 "metadata": {
  "kernelspec": {
   "display_name": "PySpark",
   "language": "",
   "name": "pysparkkernel"
  },
  "language_info": {
   "codemirror_mode": {
    "name": "python",
    "version": 3
   },
   "mimetype": "text/x-python",
   "name": "pyspark",
   "pygments_lexer": "python3"
  }
 },
 "nbformat": 4,
 "nbformat_minor": 5
}
